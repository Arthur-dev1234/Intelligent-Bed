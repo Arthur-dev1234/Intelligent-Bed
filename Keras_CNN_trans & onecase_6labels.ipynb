{
 "cells": [
  {
   "cell_type": "code",
   "execution_count": 1,
   "metadata": {},
   "outputs": [
    {
     "name": "stderr",
     "output_type": "stream",
     "text": [
      "Using TensorFlow backend.\n"
     ]
    }
   ],
   "source": [
    "import numpy as np\n",
    "import keras\n",
    "import tensorflow as tf\n",
    "import numpy as np\n",
    "import os\n",
    "import matplotlib.pyplot as plt\n",
    "import random as r\n",
    "import math\n",
    "import keras\n",
    "import cv2\n",
    "\n",
    "from keras import backend as K\n",
    "from keras.models import Sequential\n",
    "from keras.layers import Activation\n",
    "from keras.layers.core import Dense, Flatten\n",
    "from keras.optimizers import Adam\n",
    "from keras.metrics import categorical_crossentropy\n",
    "from keras.preprocessing.image import ImageDataGenerator\n",
    "from keras.layers.normalization import BatchNormalization\n",
    "from keras.layers import Dense,Dropout,Flatten,Conv2D,MaxPooling2D\n",
    "from keras.layers.convolutional import *\n",
    "from sklearn.metrics import confusion_matrix\n",
    "from keras.models import load_model\n",
    "from keras.preprocessing import image\n",
    "from keras.utils import np_utils, plot_model\n",
    "import itertools\n",
    "import matplotlib.pyplot as plt\n",
    "from PIL import Image\n",
    "\n",
    "import warnings\n",
    "warnings.filterwarnings('ignore')"
   ]
  },
  {
   "cell_type": "markdown",
   "metadata": {},
   "source": [
    "## Data Preparation"
   ]
  },
  {
   "cell_type": "code",
   "execution_count": 2,
   "metadata": {},
   "outputs": [],
   "source": [
    "def get_test_files(file_dir):\n",
    "\n",
    "    images = []   \n",
    "    subfolders = []\n",
    "    file_array = []\n",
    "    file_img_list = []\n",
    "    file_all_img = []\n",
    " \n",
    "    for dirPath, dirNames, fileNames in os.walk(file_dir):\n",
    "        \n",
    "        names = []\n",
    "        for name in fileNames:\n",
    "            names.append(os.path.join(dirPath, name))\n",
    "        for name in dirNames:\n",
    "            subfolders.append(os.path.join(dirPath, name))\n",
    "        r.shuffle(names)\n",
    "        if names != []:\n",
    "            images.append(names)\n",
    "\n",
    "    mincount = float(\"Inf\")\n",
    "    for num_folder in subfolders:\n",
    "        n_img = len(os.listdir(num_folder))\n",
    "        \n",
    "        if n_img < mincount:\n",
    "            mincount = n_img\n",
    "\n",
    "    for i in range(len(images)):\n",
    "        images[i] = images[i][0:mincount]\n",
    "        file_img_list.append([])\n",
    "        file_img_list[i] = images[i][0:]\n",
    "\n",
    "    for i in range(len(images)):\n",
    "        file_all_img.extend(file_img_list[i])\n",
    "\n",
    "    file_labels = []\n",
    "    for count in range(len(subfolders)):\n",
    "        file_labels = np.append(file_labels, len(file_img_list[0]) * [count])\n",
    "        #print(len(train_labels))\n",
    "            \n",
    "    file_array = np.array([file_all_img, file_labels])\n",
    "    file_array = file_array[:, np.random.permutation(file_array.shape[1])].T\n",
    "    \n",
    "    file_img = list(file_array[:, 0])\n",
    "    file_labels = list(file_array[:, 1])\n",
    "    file_labels = [int(float(i)) for i in file_labels]\n",
    "    \n",
    "    # 返回图片路径列表和对应标签列表\n",
    "    return file_img, file_labels"
   ]
  },
  {
   "cell_type": "code",
   "execution_count": 3,
   "metadata": {},
   "outputs": [],
   "source": [
    "def get_train_files(file_dir, train_size):\n",
    "\n",
    "    images = []   \n",
    "    subfolders = []\n",
    "    train_array = []\n",
    "    test_array = []\n",
    "    train_img_list = []\n",
    "    test_img_list = []\n",
    "    train_all_img = []\n",
    "    test_all_img = []\n",
    " \n",
    "    for dirPath, dirNames, fileNames in os.walk(file_dir):\n",
    "        \n",
    "        names = []\n",
    "        for name in fileNames:\n",
    "            names.append(os.path.join(dirPath, name))\n",
    "        for name in dirNames:\n",
    "            subfolders.append(os.path.join(dirPath, name))\n",
    "        r.shuffle(names)\n",
    "        if names != []:\n",
    "            images.append(names)\n",
    "\n",
    "    mincount = float(\"Inf\")\n",
    "    for num_folder in subfolders:\n",
    "        n_img = len(os.listdir(num_folder))\n",
    "        \n",
    "        if n_img < mincount:\n",
    "            mincount = n_img\n",
    "\n",
    "    for i in range(len(images)):\n",
    "        images[i] = images[i][0:mincount]\n",
    "        train_img_list.append([])\n",
    "        test_img_list.append([])\n",
    "        train_num = math.ceil(len(images[i]) * train_size)\n",
    "        train_img_list[i] = images[i][0:train_num]\n",
    "        test_img_list[i] = images[i][train_num:]\n",
    "\n",
    "    for i in range(len(images)):\n",
    "        train_all_img.extend(train_img_list[i])\n",
    "\n",
    "    for i in range(len(images)):\n",
    "        test_all_img.extend(test_img_list[i])\n",
    "\n",
    "    train_labels = []\n",
    "    test_labels = []\n",
    "    for count in range(len(subfolders)):\n",
    "        train_labels = np.append(train_labels, len(train_img_list[0]) * [count])\n",
    "        #print(len(train_labels))\n",
    "    for count in range(len(subfolders)):\n",
    "        test_labels = np.append(test_labels, len(test_img_list[0]) * [count])\n",
    "            \n",
    "    train_array = np.array([train_all_img, train_labels])\n",
    "    train_array = train_array[:, np.random.permutation(train_array.shape[1])].T\n",
    "    test_array = np.array([test_all_img, test_labels])\n",
    "    test_array = test_array[:, np.random.permutation(test_array.shape[1])].T\n",
    "    \n",
    "    train_img = list(train_array[:, 0])\n",
    "    train_labels = list(train_array[:, 1])\n",
    "    train_labels = [int(float(i)) for i in train_labels]\n",
    "    \n",
    "    test_img = list(test_array[:, 0])\n",
    "    test_labels = list(test_array[:, 1])\n",
    "    test_labels = [int(float(i)) for i in test_labels]\n",
    "    \n",
    "    # 返回图片路径列表和对应标签列表\n",
    "    return train_img, train_labels, test_img, test_labels"
   ]
  },
  {
   "cell_type": "code",
   "execution_count": 4,
   "metadata": {},
   "outputs": [],
   "source": [
    "target_train_img, target_train_labels ,val_img, val_labels = get_train_files('7x9_1', train_size = 0.2)\n",
    "target_test_img, target_test_labels = get_test_files('7x9_3')"
   ]
  },
  {
   "cell_type": "code",
   "execution_count": 5,
   "metadata": {
    "scrolled": true
   },
   "outputs": [],
   "source": [
    "train_images = []\n",
    "for img in target_train_img:\n",
    "    img = Image.open(img)\n",
    "    img = image.img_to_array(img)\n",
    "    train_images.append(img)\n",
    "\n",
    "x_train = np.array(train_images)\n",
    "y_train = np.array(target_train_labels)"
   ]
  },
  {
   "cell_type": "code",
   "execution_count": 6,
   "metadata": {},
   "outputs": [],
   "source": [
    "val_images = []\n",
    "for img in val_img:\n",
    "    img = Image.open(img)\n",
    "    img = image.img_to_array(img)\n",
    "    val_images.append(img)\n",
    "\n",
    "x_val = np.array(val_images)\n",
    "y_val = np.array(val_labels)"
   ]
  },
  {
   "cell_type": "code",
   "execution_count": 7,
   "metadata": {},
   "outputs": [],
   "source": [
    "test_images = []\n",
    "for img in target_test_img:\n",
    "    img = Image.open(img)\n",
    "    img = image.img_to_array(img)\n",
    "    test_images.append(img)\n",
    "\n",
    "x_test = np.array(test_images)\n",
    "y_test = np.array(target_test_labels)"
   ]
  },
  {
   "cell_type": "markdown",
   "metadata": {},
   "source": [
    "## Normalized"
   ]
  },
  {
   "cell_type": "code",
   "execution_count": 8,
   "metadata": {},
   "outputs": [],
   "source": [
    "x_train /= 255\n",
    "x_val /= 255\n",
    "x_test /= 255\n",
    "y_train_onehot = np_utils.to_categorical(y_train)\n",
    "y_val_onehot = np_utils.to_categorical(y_val)\n",
    "y_test_onehot = np_utils.to_categorical(y_test)"
   ]
  },
  {
   "cell_type": "markdown",
   "metadata": {},
   "source": [
    "## One case train "
   ]
  },
  {
   "cell_type": "code",
   "execution_count": 9,
   "metadata": {},
   "outputs": [
    {
     "name": "stdout",
     "output_type": "stream",
     "text": [
      "WARNING:tensorflow:From C:\\Anaconda3\\envs\\tensorflow\\lib\\site-packages\\tensorflow\\python\\framework\\op_def_library.py:263: colocate_with (from tensorflow.python.framework.ops) is deprecated and will be removed in a future version.\n",
      "Instructions for updating:\n",
      "Colocations handled automatically by placer.\n",
      "WARNING:tensorflow:From C:\\Anaconda3\\envs\\tensorflow\\lib\\site-packages\\keras\\backend\\tensorflow_backend.py:3445: calling dropout (from tensorflow.python.ops.nn_ops) with keep_prob is deprecated and will be removed in a future version.\n",
      "Instructions for updating:\n",
      "Please use `rate` instead of `keep_prob`. Rate should be set to `rate = 1 - keep_prob`.\n",
      "_________________________________________________________________\n",
      "Layer (type)                 Output Shape              Param #   \n",
      "=================================================================\n",
      "conv2d_1 (Conv2D)            (None, 9, 7, 35)          350       \n",
      "_________________________________________________________________\n",
      "batch_normalization_1 (Batch (None, 9, 7, 35)          140       \n",
      "_________________________________________________________________\n",
      "conv2d_2 (Conv2D)            (None, 9, 7, 70)          22120     \n",
      "_________________________________________________________________\n",
      "batch_normalization_2 (Batch (None, 9, 7, 70)          280       \n",
      "_________________________________________________________________\n",
      "conv2d_3 (Conv2D)            (None, 9, 7, 140)         88340     \n",
      "_________________________________________________________________\n",
      "batch_normalization_3 (Batch (None, 9, 7, 140)         560       \n",
      "_________________________________________________________________\n",
      "dropout_1 (Dropout)          (None, 9, 7, 140)         0         \n",
      "_________________________________________________________________\n",
      "flatten_1 (Flatten)          (None, 8820)              0         \n",
      "_________________________________________________________________\n",
      "dense_1 (Dense)              (None, 280)               2469880   \n",
      "_________________________________________________________________\n",
      "dense_2 (Dense)              (None, 6)                 1686      \n",
      "=================================================================\n",
      "Total params: 2,583,356\n",
      "Trainable params: 2,582,866\n",
      "Non-trainable params: 490\n",
      "_________________________________________________________________\n"
     ]
    }
   ],
   "source": [
    "model = Sequential()\n",
    "#卷積層1\n",
    "model.add(Conv2D(filters=63,\n",
    "                 kernel_size=(3,3),\n",
    "                 padding='same',\n",
    "                 input_shape=(9,7,1), \n",
    "                 activation='relu'))\n",
    "model.add(BatchNormalization())\n",
    "model.add(Dropout(0.25))\n",
    "#卷積層2\n",
    "model.add(Conv2D(filters=126,\n",
    "                 kernel_size=(3,3),\n",
    "                 padding='same',\n",
    "                 activation='relu'))\n",
    "model.add(BatchNormalization())\n",
    "model.add(Dropout(0.25))\n",
    "#卷積層3\n",
    "model.add(Conv2D(filters=252,\n",
    "                 kernel_size=(3,3),\n",
    "                 padding='same',\n",
    "                 activation='relu'))\n",
    "model.add(BatchNormalization())\n",
    "\n",
    "model.add(Dropout(0.25))\n",
    "#平坦層\n",
    "model.add(Flatten())\n",
    "#全連接層\n",
    "model.add(Dense(504, activation='relu'))\n",
    "#輸出層\n",
    "model.add(Dense(6,activation='softmax'))\n",
    "\n",
    "model.summary()"
   ]
  },
  {
   "cell_type": "code",
   "execution_count": 10,
   "metadata": {},
   "outputs": [
    {
     "name": "stdout",
     "output_type": "stream",
     "text": [
      "WARNING:tensorflow:From C:\\Anaconda3\\envs\\tensorflow\\lib\\site-packages\\tensorflow\\python\\ops\\math_ops.py:3066: to_int32 (from tensorflow.python.ops.math_ops) is deprecated and will be removed in a future version.\n",
      "Instructions for updating:\n",
      "Use tf.cast instead.\n",
      "Train on 96 samples, validate on 366 samples\n",
      "Epoch 1/50\n",
      "96/96 [==============================] - 1s 12ms/step - loss: 3.8194 - acc: 0.2708 - val_loss: 5.3141 - val_acc: 0.4454\n",
      "Epoch 2/50\n",
      "96/96 [==============================] - 0s 4ms/step - loss: 4.3021 - acc: 0.5938 - val_loss: 4.4522 - val_acc: 0.6230\n",
      "Epoch 3/50\n",
      "96/96 [==============================] - 0s 4ms/step - loss: 3.5495 - acc: 0.7188 - val_loss: 3.1620 - val_acc: 0.7514\n",
      "Epoch 4/50\n",
      "96/96 [==============================] - 0s 4ms/step - loss: 2.6974 - acc: 0.8229 - val_loss: 2.8859 - val_acc: 0.7842\n",
      "Epoch 5/50\n",
      "96/96 [==============================] - 0s 4ms/step - loss: 2.7017 - acc: 0.8229 - val_loss: 3.2985 - val_acc: 0.7158\n",
      "Epoch 6/50\n",
      "96/96 [==============================] - 0s 4ms/step - loss: 2.7060 - acc: 0.8229 - val_loss: 3.3430 - val_acc: 0.7213\n",
      "Epoch 7/50\n",
      "96/96 [==============================] - 0s 4ms/step - loss: 2.7437 - acc: 0.8229 - val_loss: 3.0526 - val_acc: 0.7650\n",
      "Epoch 8/50\n",
      "96/96 [==============================] - 0s 4ms/step - loss: 2.6917 - acc: 0.8333 - val_loss: 2.8107 - val_acc: 0.8060\n",
      "Epoch 9/50\n",
      "96/96 [==============================] - 0s 4ms/step - loss: 2.6864 - acc: 0.8333 - val_loss: 2.7657 - val_acc: 0.8251\n",
      "Epoch 10/50\n",
      "96/96 [==============================] - 0s 4ms/step - loss: 2.6864 - acc: 0.8333 - val_loss: 2.7532 - val_acc: 0.8279\n",
      "Epoch 11/50\n",
      "96/96 [==============================] - 0s 4ms/step - loss: 2.6864 - acc: 0.8333 - val_loss: 2.7474 - val_acc: 0.8279\n",
      "Epoch 12/50\n",
      "96/96 [==============================] - 0s 4ms/step - loss: 2.6864 - acc: 0.8333 - val_loss: 2.7431 - val_acc: 0.8279\n",
      "Epoch 13/50\n",
      "96/96 [==============================] - 0s 4ms/step - loss: 2.6864 - acc: 0.8333 - val_loss: 2.7395 - val_acc: 0.8279\n",
      "Epoch 14/50\n",
      "96/96 [==============================] - 0s 4ms/step - loss: 2.6864 - acc: 0.8333 - val_loss: 2.7368 - val_acc: 0.8279\n",
      "Epoch 15/50\n",
      "96/96 [==============================] - 0s 4ms/step - loss: 2.6864 - acc: 0.8333 - val_loss: 2.7348 - val_acc: 0.8279\n",
      "Epoch 16/50\n",
      "96/96 [==============================] - 0s 4ms/step - loss: 2.6864 - acc: 0.8333 - val_loss: 2.7334 - val_acc: 0.8279\n",
      "Epoch 17/50\n",
      "96/96 [==============================] - 0s 4ms/step - loss: 2.6864 - acc: 0.8333 - val_loss: 2.7325 - val_acc: 0.8306\n",
      "Epoch 18/50\n",
      "96/96 [==============================] - 0s 4ms/step - loss: 2.6864 - acc: 0.8333 - val_loss: 2.7320 - val_acc: 0.8306\n",
      "Epoch 19/50\n",
      "96/96 [==============================] - 0s 4ms/step - loss: 2.6864 - acc: 0.8333 - val_loss: 2.7317 - val_acc: 0.8306\n",
      "Epoch 20/50\n",
      "96/96 [==============================] - 0s 4ms/step - loss: 2.6864 - acc: 0.8333 - val_loss: 2.7315 - val_acc: 0.8306\n",
      "Epoch 21/50\n",
      "96/96 [==============================] - 0s 4ms/step - loss: 2.6864 - acc: 0.8333 - val_loss: 2.7315 - val_acc: 0.8306\n",
      "Epoch 22/50\n",
      "96/96 [==============================] - 0s 4ms/step - loss: 2.6864 - acc: 0.8333 - val_loss: 2.7314 - val_acc: 0.8306\n",
      "Epoch 23/50\n",
      "96/96 [==============================] - 0s 4ms/step - loss: 2.6864 - acc: 0.8333 - val_loss: 2.7315 - val_acc: 0.8306\n",
      "Epoch 24/50\n",
      "96/96 [==============================] - 0s 4ms/step - loss: 2.6864 - acc: 0.8333 - val_loss: 2.7315 - val_acc: 0.8306\n",
      "Epoch 25/50\n",
      "96/96 [==============================] - 0s 4ms/step - loss: 2.6864 - acc: 0.8333 - val_loss: 2.7315 - val_acc: 0.8306\n",
      "Epoch 26/50\n",
      "96/96 [==============================] - 0s 4ms/step - loss: 2.6864 - acc: 0.8333 - val_loss: 2.7315 - val_acc: 0.8306\n",
      "Epoch 27/50\n",
      "96/96 [==============================] - 0s 4ms/step - loss: 2.6863 - acc: 0.8333 - val_loss: 2.7316 - val_acc: 0.8306\n",
      "Epoch 28/50\n",
      "96/96 [==============================] - 0s 4ms/step - loss: 2.6864 - acc: 0.8333 - val_loss: 2.7316 - val_acc: 0.8306\n",
      "Epoch 29/50\n",
      "96/96 [==============================] - 0s 4ms/step - loss: 2.6864 - acc: 0.8333 - val_loss: 2.7316 - val_acc: 0.8306\n",
      "Epoch 30/50\n",
      "96/96 [==============================] - 0s 4ms/step - loss: 2.6864 - acc: 0.8333 - val_loss: 2.7316 - val_acc: 0.8306\n",
      "Epoch 31/50\n",
      "96/96 [==============================] - 0s 4ms/step - loss: 2.6864 - acc: 0.8333 - val_loss: 2.7316 - val_acc: 0.8306\n",
      "Epoch 32/50\n",
      "96/96 [==============================] - 0s 4ms/step - loss: 2.6864 - acc: 0.8333 - val_loss: 2.7317 - val_acc: 0.8306\n",
      "Epoch 33/50\n",
      "96/96 [==============================] - 0s 4ms/step - loss: 2.6864 - acc: 0.8333 - val_loss: 2.7317 - val_acc: 0.8306\n",
      "Epoch 34/50\n",
      "96/96 [==============================] - 0s 4ms/step - loss: 2.6863 - acc: 0.8333 - val_loss: 2.7317 - val_acc: 0.8306\n",
      "Epoch 35/50\n",
      "96/96 [==============================] - 0s 4ms/step - loss: 2.6864 - acc: 0.8333 - val_loss: 2.7317 - val_acc: 0.8306\n",
      "Epoch 36/50\n",
      "96/96 [==============================] - 0s 4ms/step - loss: 2.6864 - acc: 0.8333 - val_loss: 2.7318 - val_acc: 0.8306\n",
      "Epoch 37/50\n",
      "96/96 [==============================] - 0s 4ms/step - loss: 2.6863 - acc: 0.8333 - val_loss: 2.7318 - val_acc: 0.8306\n",
      "Epoch 38/50\n",
      "96/96 [==============================] - 0s 4ms/step - loss: 2.6863 - acc: 0.8333 - val_loss: 2.7318 - val_acc: 0.8306\n",
      "Epoch 39/50\n",
      "96/96 [==============================] - 0s 4ms/step - loss: 2.6863 - acc: 0.8333 - val_loss: 2.7318 - val_acc: 0.8306\n",
      "Epoch 40/50\n",
      "96/96 [==============================] - 0s 4ms/step - loss: 2.6863 - acc: 0.8333 - val_loss: 2.7318 - val_acc: 0.8306\n",
      "Epoch 41/50\n",
      "96/96 [==============================] - 0s 4ms/step - loss: 2.6864 - acc: 0.8333 - val_loss: 2.7318 - val_acc: 0.8306\n",
      "Epoch 42/50\n",
      "96/96 [==============================] - 0s 4ms/step - loss: 2.6863 - acc: 0.8333 - val_loss: 2.7318 - val_acc: 0.8306\n",
      "Epoch 43/50\n",
      "96/96 [==============================] - 0s 4ms/step - loss: 2.6863 - acc: 0.8333 - val_loss: 2.7318 - val_acc: 0.8306\n",
      "Epoch 44/50\n",
      "96/96 [==============================] - 0s 4ms/step - loss: 2.6863 - acc: 0.8333 - val_loss: 2.7318 - val_acc: 0.8306\n",
      "Epoch 45/50\n",
      "96/96 [==============================] - 0s 4ms/step - loss: 2.6863 - acc: 0.8333 - val_loss: 2.7318 - val_acc: 0.8306\n",
      "Epoch 46/50\n",
      "96/96 [==============================] - 0s 4ms/step - loss: 2.6863 - acc: 0.8333 - val_loss: 2.7318 - val_acc: 0.8306\n",
      "Epoch 47/50\n",
      "96/96 [==============================] - 0s 4ms/step - loss: 2.6863 - acc: 0.8333 - val_loss: 2.7318 - val_acc: 0.8306\n",
      "Epoch 48/50\n",
      "96/96 [==============================] - 0s 4ms/step - loss: 2.6864 - acc: 0.8333 - val_loss: 2.7318 - val_acc: 0.8306\n",
      "Epoch 49/50\n",
      "96/96 [==============================] - 0s 4ms/step - loss: 2.6863 - acc: 0.8333 - val_loss: 2.7318 - val_acc: 0.8306\n",
      "Epoch 50/50\n",
      "96/96 [==============================] - 0s 4ms/step - loss: 2.6864 - acc: 0.8333 - val_loss: 2.7318 - val_acc: 0.8306\n"
     ]
    }
   ],
   "source": [
    "model.compile(loss='categorical_crossentropy', optimizer='adam',metrics=['accuracy'])\n",
    "train_history=model.fit(x=x_train, \n",
    "                        y=y_train_onehot,validation_data=(x_val, y_val_onehot), \n",
    "                        epochs=50, batch_size=64,verbose=1)"
   ]
  },
  {
   "cell_type": "markdown",
   "metadata": {},
   "source": [
    "## Transfer Train "
   ]
  },
  {
   "cell_type": "code",
   "execution_count": 11,
   "metadata": {
    "scrolled": true
   },
   "outputs": [
    {
     "name": "stdout",
     "output_type": "stream",
     "text": [
      "_________________________________________________________________\n",
      "Layer (type)                 Output Shape              Param #   \n",
      "=================================================================\n",
      "conv_1 (Conv2D)              (None, 9, 7, 35)          350       \n",
      "_________________________________________________________________\n",
      "bn_1 (BatchNormalization)    (None, 9, 7, 35)          140       \n",
      "_________________________________________________________________\n",
      "conv_2 (Conv2D)              (None, 9, 7, 70)          22120     \n",
      "_________________________________________________________________\n",
      "bn_2 (BatchNormalization)    (None, 9, 7, 70)          280       \n",
      "_________________________________________________________________\n",
      "conv_3 (Conv2D)              (None, 9, 7, 140)         88340     \n",
      "_________________________________________________________________\n",
      "bn_3 (BatchNormalization)    (None, 9, 7, 140)         560       \n",
      "_________________________________________________________________\n",
      "DP (Dropout)                 (None, 9, 7, 140)         0         \n",
      "_________________________________________________________________\n",
      "Flat (Flatten)               (None, 8820)              0         \n",
      "_________________________________________________________________\n",
      "dense_1 (Dense)              (None, 280)               2469880   \n",
      "_________________________________________________________________\n",
      "dense_2 (Dense)              (None, 6)                 1686      \n",
      "=================================================================\n",
      "Total params: 2,583,356\n",
      "Trainable params: 2,582,866\n",
      "Non-trainable params: 490\n",
      "_________________________________________________________________\n"
     ]
    }
   ],
   "source": [
    "model_trans = Sequential()\n",
    "#卷積層1\n",
    "model_trans.add(Conv2D(filters=63,\n",
    "                 kernel_size=(3,3),\n",
    "                 padding='same',\n",
    "                 input_shape=(9,7,1), \n",
    "                 activation='relu', name = \"conv_1\"))\n",
    "model_trans.add(BatchNormalization(name = \"bn_1\"))\n",
    "model_trans.add(Dropout(0.25, name = \"DP1\"))\n",
    "#卷積層2\n",
    "model_trans.add(Conv2D(filters=126,\n",
    "                 kernel_size=(3,3),\n",
    "                 padding='same',\n",
    "                 activation='relu', name = \"conv_2\"))\n",
    "model_trans.add(BatchNormalization(name = \"bn_2\"))\n",
    "model_trans.add(Dropout(0.25, name = \"DP2\"))\n",
    "#卷積層3\n",
    "model_trans.add(Conv2D(filters=252,\n",
    "                 kernel_size=(3,3),\n",
    "                 padding='same',\n",
    "                 activation='relu', name = \"conv_3\"))\n",
    "model_trans.add(BatchNormalization(name = \"bn_3\"))\n",
    "\n",
    "model_trans.add(Dropout(0.25, name = \"DP3\"))\n",
    "#平坦層\n",
    "model_trans.add(Flatten(name = \"Flat\"))\n",
    "#全連接層\n",
    "model_trans.add(Dense(504, activation='relu', name = \"dense_1\"))\n",
    "#輸出層\n",
    "model_trans.add(Dense(6,activation='softmax', name = \"dense_2\"))\n",
    "\n",
    "model_trans.compile(loss='categorical_crossentropy', optimizer='adam',metrics=['accuracy']) \n",
    "\n",
    "model_trans.summary()"
   ]
  },
  {
   "cell_type": "code",
   "execution_count": 12,
   "metadata": {},
   "outputs": [
    {
     "name": "stdout",
     "output_type": "stream",
     "text": [
      "Train on 96 samples, validate on 366 samples\n",
      "Epoch 1/50\n",
      "96/96 [==============================] - 1s 12ms/step - loss: 3.0605 - acc: 0.7812 - val_loss: 1.8831 - val_acc: 0.8415\n",
      "Epoch 2/50\n",
      "96/96 [==============================] - 0s 4ms/step - loss: 1.7308 - acc: 0.8750 - val_loss: 1.4980 - val_acc: 0.8852\n",
      "Epoch 3/50\n",
      "96/96 [==============================] - 0s 4ms/step - loss: 0.8439 - acc: 0.9479 - val_loss: 1.3533 - val_acc: 0.8989\n",
      "Epoch 4/50\n",
      "96/96 [==============================] - 0s 4ms/step - loss: 0.8412 - acc: 0.9479 - val_loss: 1.2866 - val_acc: 0.8989\n",
      "Epoch 5/50\n",
      "96/96 [==============================] - 0s 4ms/step - loss: 0.7882 - acc: 0.9479 - val_loss: 1.2101 - val_acc: 0.8989\n",
      "Epoch 6/50\n",
      "96/96 [==============================] - 0s 4ms/step - loss: 0.6928 - acc: 0.9479 - val_loss: 1.1101 - val_acc: 0.9126\n",
      "Epoch 7/50\n",
      "96/96 [==============================] - 0s 4ms/step - loss: 0.5396 - acc: 0.9583 - val_loss: 1.0252 - val_acc: 0.9235\n",
      "Epoch 8/50\n",
      "96/96 [==============================] - 0s 4ms/step - loss: 0.5044 - acc: 0.9688 - val_loss: 0.9968 - val_acc: 0.9344\n",
      "Epoch 9/50\n",
      "96/96 [==============================] - 0s 4ms/step - loss: 0.5037 - acc: 0.9688 - val_loss: 0.9826 - val_acc: 0.9344\n",
      "Epoch 10/50\n",
      "96/96 [==============================] - 0s 4ms/step - loss: 0.5038 - acc: 0.9688 - val_loss: 0.9729 - val_acc: 0.9344\n",
      "Epoch 11/50\n",
      "96/96 [==============================] - 0s 4ms/step - loss: 0.5037 - acc: 0.9688 - val_loss: 0.9620 - val_acc: 0.9344\n",
      "Epoch 12/50\n",
      "96/96 [==============================] - 0s 4ms/step - loss: 0.5037 - acc: 0.9688 - val_loss: 0.9510 - val_acc: 0.9344\n",
      "Epoch 13/50\n",
      "96/96 [==============================] - 0s 4ms/step - loss: 0.4986 - acc: 0.9688 - val_loss: 0.9212 - val_acc: 0.9344\n",
      "Epoch 14/50\n",
      "96/96 [==============================] - 0s 4ms/step - loss: 0.4452 - acc: 0.9688 - val_loss: 0.8677 - val_acc: 0.9317\n",
      "Epoch 15/50\n",
      "96/96 [==============================] - 0s 4ms/step - loss: 0.3995 - acc: 0.9688 - val_loss: 0.7699 - val_acc: 0.9290\n",
      "Epoch 16/50\n",
      "96/96 [==============================] - 0s 4ms/step - loss: 0.3503 - acc: 0.9688 - val_loss: 0.7082 - val_acc: 0.9344\n",
      "Epoch 17/50\n",
      "96/96 [==============================] - 0s 4ms/step - loss: 0.3358 - acc: 0.9792 - val_loss: 0.6775 - val_acc: 0.9372\n",
      "Epoch 18/50\n",
      "96/96 [==============================] - 0s 4ms/step - loss: 0.3361 - acc: 0.9792 - val_loss: 0.6689 - val_acc: 0.9399\n",
      "Epoch 19/50\n",
      "96/96 [==============================] - 0s 4ms/step - loss: 0.3358 - acc: 0.9792 - val_loss: 0.6705 - val_acc: 0.9426\n",
      "Epoch 20/50\n",
      "96/96 [==============================] - 0s 4ms/step - loss: 0.3358 - acc: 0.9792 - val_loss: 0.6732 - val_acc: 0.9481\n",
      "Epoch 21/50\n",
      "96/96 [==============================] - 0s 4ms/step - loss: 0.3358 - acc: 0.9792 - val_loss: 0.6729 - val_acc: 0.9481\n",
      "Epoch 22/50\n",
      "96/96 [==============================] - 0s 4ms/step - loss: 0.3358 - acc: 0.9792 - val_loss: 0.6707 - val_acc: 0.9481\n",
      "Epoch 23/50\n",
      "96/96 [==============================] - 0s 4ms/step - loss: 0.3358 - acc: 0.9792 - val_loss: 0.6688 - val_acc: 0.9481\n",
      "Epoch 24/50\n",
      "96/96 [==============================] - 0s 4ms/step - loss: 0.3358 - acc: 0.9792 - val_loss: 0.6673 - val_acc: 0.9481\n",
      "Epoch 25/50\n",
      "96/96 [==============================] - 0s 4ms/step - loss: 0.3358 - acc: 0.9792 - val_loss: 0.6664 - val_acc: 0.9481\n",
      "Epoch 26/50\n",
      "96/96 [==============================] - 0s 4ms/step - loss: 0.3358 - acc: 0.9792 - val_loss: 0.6658 - val_acc: 0.9481\n",
      "Epoch 27/50\n",
      "96/96 [==============================] - 0s 4ms/step - loss: 0.3358 - acc: 0.9792 - val_loss: 0.6645 - val_acc: 0.9481\n",
      "Epoch 28/50\n",
      "96/96 [==============================] - 0s 4ms/step - loss: 0.3358 - acc: 0.9792 - val_loss: 0.6639 - val_acc: 0.9481\n",
      "Epoch 29/50\n",
      "96/96 [==============================] - 0s 4ms/step - loss: 0.3358 - acc: 0.9792 - val_loss: 0.6636 - val_acc: 0.9481\n",
      "Epoch 30/50\n",
      "96/96 [==============================] - 0s 4ms/step - loss: 0.3358 - acc: 0.9792 - val_loss: 0.6635 - val_acc: 0.9481\n",
      "Epoch 31/50\n",
      "96/96 [==============================] - 0s 4ms/step - loss: 0.3358 - acc: 0.9792 - val_loss: 0.6631 - val_acc: 0.9481\n",
      "Epoch 32/50\n",
      "96/96 [==============================] - 0s 4ms/step - loss: 0.3358 - acc: 0.9792 - val_loss: 0.6625 - val_acc: 0.9481\n",
      "Epoch 33/50\n",
      "96/96 [==============================] - 0s 4ms/step - loss: 0.3358 - acc: 0.9792 - val_loss: 0.6622 - val_acc: 0.9481\n",
      "Epoch 34/50\n",
      "96/96 [==============================] - 0s 4ms/step - loss: 0.3358 - acc: 0.9792 - val_loss: 0.6615 - val_acc: 0.9481\n",
      "Epoch 35/50\n",
      "96/96 [==============================] - 0s 4ms/step - loss: 0.3358 - acc: 0.9792 - val_loss: 0.6608 - val_acc: 0.9481\n",
      "Epoch 36/50\n",
      "96/96 [==============================] - 0s 4ms/step - loss: 0.3358 - acc: 0.9792 - val_loss: 0.6607 - val_acc: 0.9481\n",
      "Epoch 37/50\n",
      "96/96 [==============================] - 0s 4ms/step - loss: 0.3358 - acc: 0.9792 - val_loss: 0.6610 - val_acc: 0.9481\n",
      "Epoch 38/50\n",
      "96/96 [==============================] - 0s 4ms/step - loss: 0.3358 - acc: 0.9792 - val_loss: 0.6601 - val_acc: 0.9481\n",
      "Epoch 39/50\n",
      "96/96 [==============================] - 0s 4ms/step - loss: 0.3358 - acc: 0.9792 - val_loss: 0.6586 - val_acc: 0.9481\n",
      "Epoch 40/50\n",
      "96/96 [==============================] - 0s 4ms/step - loss: 0.3358 - acc: 0.9792 - val_loss: 0.6571 - val_acc: 0.9481\n",
      "Epoch 41/50\n",
      "96/96 [==============================] - 0s 4ms/step - loss: 0.3358 - acc: 0.9792 - val_loss: 0.6559 - val_acc: 0.9481\n",
      "Epoch 42/50\n",
      "96/96 [==============================] - 0s 4ms/step - loss: 0.3358 - acc: 0.9792 - val_loss: 0.6550 - val_acc: 0.9481\n",
      "Epoch 43/50\n",
      "96/96 [==============================] - 0s 4ms/step - loss: 0.3358 - acc: 0.9792 - val_loss: 0.6540 - val_acc: 0.9481\n",
      "Epoch 44/50\n",
      "96/96 [==============================] - 0s 4ms/step - loss: 0.3358 - acc: 0.9792 - val_loss: 0.6540 - val_acc: 0.9481\n",
      "Epoch 45/50\n",
      "96/96 [==============================] - 0s 4ms/step - loss: 0.3358 - acc: 0.9792 - val_loss: 0.6533 - val_acc: 0.9481\n",
      "Epoch 46/50\n",
      "96/96 [==============================] - 0s 4ms/step - loss: 0.3358 - acc: 0.9792 - val_loss: 0.6501 - val_acc: 0.9481\n",
      "Epoch 47/50\n",
      "96/96 [==============================] - 0s 4ms/step - loss: 0.3358 - acc: 0.9792 - val_loss: 0.6475 - val_acc: 0.9481\n",
      "Epoch 48/50\n",
      "96/96 [==============================] - 0s 4ms/step - loss: 0.3358 - acc: 0.9792 - val_loss: 0.6461 - val_acc: 0.9481\n",
      "Epoch 49/50\n",
      "96/96 [==============================] - 0s 4ms/step - loss: 0.3358 - acc: 0.9792 - val_loss: 0.6459 - val_acc: 0.9508\n",
      "Epoch 50/50\n",
      "96/96 [==============================] - 0s 4ms/step - loss: 0.3358 - acc: 0.9792 - val_loss: 0.6465 - val_acc: 0.9508\n"
     ]
    }
   ],
   "source": [
    "model_trans.load_weights('models/7x9_m1/pre/7x9model_weights.h5', by_name = True)\n",
    "\n",
    "train_history_trans = model_trans.fit(x=x_train, \n",
    "                                      y=y_train_onehot,validation_data=(x_val, y_val_onehot), \n",
    "                                      epochs=50, batch_size=64,verbose=1)"
   ]
  },
  {
   "cell_type": "markdown",
   "metadata": {},
   "source": [
    "## One case predict "
   ]
  },
  {
   "cell_type": "code",
   "execution_count": 13,
   "metadata": {},
   "outputs": [
    {
     "name": "stdout",
     "output_type": "stream",
     "text": [
      "1374/1374 [==============================] - 1s 511us/step\n",
      "\n",
      "accuracy= 0.8253275104832267\n"
     ]
    }
   ],
   "source": [
    "scores = model.evaluate(x_test,y_test_onehot)\n",
    "print()\n",
    "print('accuracy=',scores[1])"
   ]
  },
  {
   "cell_type": "code",
   "execution_count": 14,
   "metadata": {
    "scrolled": true
   },
   "outputs": [
    {
     "data": {
      "text/html": [
       "<div>\n",
       "<style scoped>\n",
       "    .dataframe tbody tr th:only-of-type {\n",
       "        vertical-align: middle;\n",
       "    }\n",
       "\n",
       "    .dataframe tbody tr th {\n",
       "        vertical-align: top;\n",
       "    }\n",
       "\n",
       "    .dataframe thead th {\n",
       "        text-align: right;\n",
       "    }\n",
       "</style>\n",
       "<table border=\"1\" class=\"dataframe\">\n",
       "  <thead>\n",
       "    <tr style=\"text-align: right;\">\n",
       "      <th></th>\n",
       "      <th>姿勢</th>\n",
       "      <th>0</th>\n",
       "      <th>1</th>\n",
       "      <th>2</th>\n",
       "      <th>3</th>\n",
       "      <th>4</th>\n",
       "    </tr>\n",
       "  </thead>\n",
       "  <tbody>\n",
       "    <tr>\n",
       "      <th>0</th>\n",
       "      <td>仰臥</td>\n",
       "      <td>228</td>\n",
       "      <td>0</td>\n",
       "      <td>0</td>\n",
       "      <td>0</td>\n",
       "      <td>1</td>\n",
       "    </tr>\n",
       "    <tr>\n",
       "      <th>1</th>\n",
       "      <td>俯臥</td>\n",
       "      <td>0</td>\n",
       "      <td>229</td>\n",
       "      <td>0</td>\n",
       "      <td>0</td>\n",
       "      <td>0</td>\n",
       "    </tr>\n",
       "    <tr>\n",
       "      <th>2</th>\n",
       "      <td>右側</td>\n",
       "      <td>0</td>\n",
       "      <td>0</td>\n",
       "      <td>229</td>\n",
       "      <td>0</td>\n",
       "      <td>0</td>\n",
       "    </tr>\n",
       "    <tr>\n",
       "      <th>3</th>\n",
       "      <td>左側</td>\n",
       "      <td>1</td>\n",
       "      <td>0</td>\n",
       "      <td>1</td>\n",
       "      <td>224</td>\n",
       "      <td>3</td>\n",
       "    </tr>\n",
       "    <tr>\n",
       "      <th>4</th>\n",
       "      <td>坐姿</td>\n",
       "      <td>0</td>\n",
       "      <td>0</td>\n",
       "      <td>5</td>\n",
       "      <td>0</td>\n",
       "      <td>224</td>\n",
       "    </tr>\n",
       "    <tr>\n",
       "      <th>5</th>\n",
       "      <td>未知</td>\n",
       "      <td>2</td>\n",
       "      <td>13</td>\n",
       "      <td>84</td>\n",
       "      <td>5</td>\n",
       "      <td>125</td>\n",
       "    </tr>\n",
       "  </tbody>\n",
       "</table>\n",
       "</div>"
      ],
      "text/plain": [
       "   姿勢    0    1    2    3    4\n",
       "0  仰臥  228    0    0    0    1\n",
       "1  俯臥    0  229    0    0    0\n",
       "2  右側    0    0  229    0    0\n",
       "3  左側    1    0    1  224    3\n",
       "4  坐姿    0    0    5    0  224\n",
       "5  未知    2   13   84    5  125"
      ]
     },
     "execution_count": 14,
     "metadata": {},
     "output_type": "execute_result"
    }
   ],
   "source": [
    "import pandas as pd\n",
    "pose = [{\"姿勢\":\"仰臥\"},{\"姿勢\":\"俯臥\"},{\"姿勢\":\"右側\"},{\"姿勢\":\"左側\"},{\"姿勢\":\"坐姿\"},{\"姿勢\":\"未知\"}]\n",
    "pose_df = pd.DataFrame(pose)\n",
    "\n",
    "prediction = model.predict_classes(x_test)\n",
    "pred = pd.crosstab(y_test, prediction, rownames=['label'], colnames=['predict'])\n",
    "\n",
    "com = pd.concat([pose_df, pred], axis = 1)\n",
    "com"
   ]
  },
  {
   "cell_type": "markdown",
   "metadata": {},
   "source": [
    "## Transfer predict "
   ]
  },
  {
   "cell_type": "code",
   "execution_count": 15,
   "metadata": {},
   "outputs": [
    {
     "name": "stdout",
     "output_type": "stream",
     "text": [
      "1374/1374 [==============================] - 1s 474us/step\n",
      "\n",
      "accuracy= 0.9534206689705494\n"
     ]
    }
   ],
   "source": [
    "scores = model_trans.evaluate(x_test,y_test_onehot)\n",
    "print()\n",
    "print('accuracy=',scores[1])"
   ]
  },
  {
   "cell_type": "code",
   "execution_count": 16,
   "metadata": {},
   "outputs": [
    {
     "data": {
      "text/html": [
       "<div>\n",
       "<style scoped>\n",
       "    .dataframe tbody tr th:only-of-type {\n",
       "        vertical-align: middle;\n",
       "    }\n",
       "\n",
       "    .dataframe tbody tr th {\n",
       "        vertical-align: top;\n",
       "    }\n",
       "\n",
       "    .dataframe thead th {\n",
       "        text-align: right;\n",
       "    }\n",
       "</style>\n",
       "<table border=\"1\" class=\"dataframe\">\n",
       "  <thead>\n",
       "    <tr style=\"text-align: right;\">\n",
       "      <th></th>\n",
       "      <th>姿勢</th>\n",
       "      <th>0</th>\n",
       "      <th>1</th>\n",
       "      <th>2</th>\n",
       "      <th>3</th>\n",
       "      <th>4</th>\n",
       "      <th>5</th>\n",
       "    </tr>\n",
       "  </thead>\n",
       "  <tbody>\n",
       "    <tr>\n",
       "      <th>0</th>\n",
       "      <td>仰臥</td>\n",
       "      <td>228</td>\n",
       "      <td>0</td>\n",
       "      <td>0</td>\n",
       "      <td>0</td>\n",
       "      <td>1</td>\n",
       "      <td>0</td>\n",
       "    </tr>\n",
       "    <tr>\n",
       "      <th>1</th>\n",
       "      <td>俯臥</td>\n",
       "      <td>0</td>\n",
       "      <td>227</td>\n",
       "      <td>0</td>\n",
       "      <td>1</td>\n",
       "      <td>0</td>\n",
       "      <td>1</td>\n",
       "    </tr>\n",
       "    <tr>\n",
       "      <th>2</th>\n",
       "      <td>右側</td>\n",
       "      <td>0</td>\n",
       "      <td>0</td>\n",
       "      <td>227</td>\n",
       "      <td>0</td>\n",
       "      <td>0</td>\n",
       "      <td>2</td>\n",
       "    </tr>\n",
       "    <tr>\n",
       "      <th>3</th>\n",
       "      <td>左側</td>\n",
       "      <td>0</td>\n",
       "      <td>0</td>\n",
       "      <td>0</td>\n",
       "      <td>229</td>\n",
       "      <td>0</td>\n",
       "      <td>0</td>\n",
       "    </tr>\n",
       "    <tr>\n",
       "      <th>4</th>\n",
       "      <td>坐姿</td>\n",
       "      <td>0</td>\n",
       "      <td>0</td>\n",
       "      <td>7</td>\n",
       "      <td>0</td>\n",
       "      <td>218</td>\n",
       "      <td>4</td>\n",
       "    </tr>\n",
       "    <tr>\n",
       "      <th>5</th>\n",
       "      <td>未知</td>\n",
       "      <td>0</td>\n",
       "      <td>0</td>\n",
       "      <td>14</td>\n",
       "      <td>26</td>\n",
       "      <td>8</td>\n",
       "      <td>181</td>\n",
       "    </tr>\n",
       "  </tbody>\n",
       "</table>\n",
       "</div>"
      ],
      "text/plain": [
       "   姿勢    0    1    2    3    4    5\n",
       "0  仰臥  228    0    0    0    1    0\n",
       "1  俯臥    0  227    0    1    0    1\n",
       "2  右側    0    0  227    0    0    2\n",
       "3  左側    0    0    0  229    0    0\n",
       "4  坐姿    0    0    7    0  218    4\n",
       "5  未知    0    0   14   26    8  181"
      ]
     },
     "execution_count": 16,
     "metadata": {},
     "output_type": "execute_result"
    }
   ],
   "source": [
    "import pandas as pd\n",
    "prediction = model_trans.predict_classes(x_test)\n",
    "pred_trans = pd.crosstab(y_test, prediction, rownames=['label'], colnames=['predict'])\n",
    "\n",
    "com_trans = pd.concat([pose_df, pred_trans], axis = 1)\n",
    "com_trans"
   ]
  },
  {
   "cell_type": "markdown",
   "metadata": {},
   "source": [
    "## Graphically display"
   ]
  },
  {
   "cell_type": "code",
   "execution_count": 17,
   "metadata": {},
   "outputs": [],
   "source": [
    "def show_train_history(train_history, title, train, validation):\n",
    "    plt.plot(train_history.history[train])\n",
    "    plt.plot(train_history.history[validation])\n",
    "    plt.title(title)\n",
    "    plt.ylabel(train)\n",
    "    plt.xlabel('Epoch')\n",
    "    plt.legend(['train', 'validation'], loc = 'upper left')\n",
    "    plt.show()"
   ]
  },
  {
   "cell_type": "code",
   "execution_count": 18,
   "metadata": {},
   "outputs": [
    {
     "data": {
      "image/png": "[encoded data removed]",
      "text/plain": [
       "<Figure size 432x288 with 1 Axes>"
      ]
     },
     "metadata": {
      "needs_background": "light"
     },
     "output_type": "display_data"
    },
    {
     "data": {
      "image/png": "[encoded data removed]",
      "text/plain": [
       "<Figure size 432x288 with 1 Axes>"
      ]
     },
     "metadata": {
      "needs_background": "light"
     },
     "output_type": "display_data"
    }
   ],
   "source": [
    "show_train_history(train_history, 'Accuracy', 'acc', 'val_acc')\n",
    "show_train_history(train_history, 'Loss', 'loss', 'val_loss')"
   ]
  },
  {
   "cell_type": "code",
   "execution_count": 19,
   "metadata": {},
   "outputs": [
    {
     "data": {
      "image/png": "[encoded data removed]",
      "text/plain": [
       "<Figure size 432x288 with 1 Axes>"
      ]
     },
     "metadata": {
      "needs_background": "light"
     },
     "output_type": "display_data"
    },
    {
     "data": {
      "image/png": "[encoded data removed]",
      "text/plain": [
       "<Figure size 432x288 with 1 Axes>"
      ]
     },
     "metadata": {
      "needs_background": "light"
     },
     "output_type": "display_data"
    }
   ],
   "source": [
    "show_train_history(train_history_trans, 'Accuracy', 'acc', 'val_acc')\n",
    "show_train_history(train_history_trans, 'Loss', 'loss', 'val_loss')"
   ]
  },
  {
   "cell_type": "markdown",
   "metadata": {},
   "source": [
    "## Save Model"
   ]
  },
  {
   "cell_type": "code",
   "execution_count": 20,
   "metadata": {},
   "outputs": [],
   "source": [
    "model.save('models/7x9_m1/trans/7x9trans_model.h5')"
   ]
  },
  {
   "cell_type": "code",
   "execution_count": 21,
   "metadata": {
    "scrolled": false
   },
   "outputs": [
    {
     "name": "stdout",
     "output_type": "stream",
     "text": [
      "WARNING:tensorflow:From C:\\Anaconda3\\envs\\tensorflow\\lib\\site-packages\\tensorflow\\lite\\python\\lite.py:591: convert_variables_to_constants (from tensorflow.python.framework.graph_util_impl) is deprecated and will be removed in a future version.\n",
      "Instructions for updating:\n",
      "Use tf.compat.v1.graph_util.convert_variables_to_constants\n",
      "WARNING:tensorflow:From C:\\Anaconda3\\envs\\tensorflow\\lib\\site-packages\\tensorflow\\python\\framework\\graph_util_impl.py:245: extract_sub_graph (from tensorflow.python.framework.graph_util_impl) is deprecated and will be removed in a future version.\n",
      "Instructions for updating:\n",
      "Use tf.compat.v1.graph_util.extract_sub_graph\n",
      "INFO:tensorflow:Froze 22 variables.\n",
      "INFO:tensorflow:Converted 22 variables to const ops.\n"
     ]
    },
    {
     "data": {
      "text/plain": [
       "10335212"
      ]
     },
     "execution_count": 21,
     "metadata": {},
     "output_type": "execute_result"
    }
   ],
   "source": [
    "from tensorflow.contrib import lite\n",
    "converter = lite.TFLiteConverter.from_keras_model_file('models/7x9_m1/trans/7x9trans_model.h5')\n",
    "tfmodel = converter.convert()\n",
    "open ('models/7x9_m1/trans/7x9trans_model.tflite' , \"wb\") .write(tfmodel)"
   ]
  },
  {
   "cell_type": "code",
   "execution_count": 22,
   "metadata": {
    "scrolled": true
   },
   "outputs": [
    {
     "data": {
      "text/html": [
       "<div>\n",
       "<style scoped>\n",
       "    .dataframe tbody tr th:only-of-type {\n",
       "        vertical-align: middle;\n",
       "    }\n",
       "\n",
       "    .dataframe tbody tr th {\n",
       "        vertical-align: top;\n",
       "    }\n",
       "\n",
       "    .dataframe thead th {\n",
       "        text-align: right;\n",
       "    }\n",
       "</style>\n",
       "<table border=\"1\" class=\"dataframe\">\n",
       "  <thead>\n",
       "    <tr style=\"text-align: right;\">\n",
       "      <th></th>\n",
       "      <th>label</th>\n",
       "      <th>predict</th>\n",
       "    </tr>\n",
       "  </thead>\n",
       "  <tbody>\n",
       "  </tbody>\n",
       "</table>\n",
       "</div>"
      ],
      "text/plain": [
       "Empty DataFrame\n",
       "Columns: [label, predict]\n",
       "Index: []"
      ]
     },
     "execution_count": 22,
     "metadata": {},
     "output_type": "execute_result"
    }
   ],
   "source": [
    "df = pd.DataFrame({'label':y_test, 'predict':prediction})\n",
    "df[(df.label==2)&(df.predict==4)]"
   ]
  },
  {
   "cell_type": "code",
   "execution_count": 23,
   "metadata": {},
   "outputs": [],
   "source": [
    "def print_error_img(PictureNum):\n",
    "    img = x_test[PictureNum]*255\n",
    "    img = image.array_to_img(img)\n",
    "    plt.figure(figsize=(2,2))\n",
    "    plt.imshow(img, cmap = 'gray')\n",
    "    title = 'label=' + str(y_test[PictureNum]) + '; predict=' + str(prediction[PictureNum])\n",
    "    plt.xticks([]); plt.yticks([])\n",
    "    plt.title(title)\n",
    "    plt.show()"
   ]
  },
  {
   "cell_type": "code",
   "execution_count": 24,
   "metadata": {},
   "outputs": [
    {
     "data": {
      "text/plain": [
       "[]"
      ]
     },
     "execution_count": 24,
     "metadata": {},
     "output_type": "execute_result"
    }
   ],
   "source": [
    "picturenum = df[(df.label==2)&(df.predict==4)].index.values.tolist()\n",
    "picturenum"
   ]
  },
  {
   "cell_type": "code",
   "execution_count": 25,
   "metadata": {},
   "outputs": [],
   "source": [
    "for num in picturenum:\n",
    "    print_error_img(num)"
   ]
  },
  {
   "cell_type": "code",
   "execution_count": 26,
   "metadata": {},
   "outputs": [],
   "source": [
    "img = x_test[4]*255\n",
    "img = image.array_to_img(img)"
   ]
  },
  {
   "cell_type": "code",
   "execution_count": 27,
   "metadata": {},
   "outputs": [
    {
     "data": {
      "image/png": "[encoded data removed]",
      "text/plain": [
       "<Figure size 144x144 with 1 Axes>"
      ]
     },
     "metadata": {},
     "output_type": "display_data"
    }
   ],
   "source": [
    "plt.figure(figsize=(2,2))\n",
    "plt.imshow(img, cmap = 'gray')\n",
    "title = 'label=' + str(y_test[4]) + '; predict=' + str(prediction[4])\n",
    "plt.xticks([]); plt.yticks([])\n",
    "plt.title(title)\n",
    "plt.show()"
   ]
  },
  {
   "cell_type": "code",
   "execution_count": null,
   "metadata": {},
   "outputs": [],
   "source": []
  }
 ],
 "metadata": {
  "kernelspec": {
   "display_name": "Python 3",
   "language": "python",
   "name": "python3"
  },
  "language_info": {
   "codemirror_mode": {
    "name": "ipython",
    "version": 3
   },
   "file_extension": ".py",
   "mimetype": "text/x-python",
   "name": "python",
   "nbconvert_exporter": "python",
   "pygments_lexer": "ipython3",
   "version": "3.5.6"
  }
 },
 "nbformat": 4,
 "nbformat_minor": 2
}
